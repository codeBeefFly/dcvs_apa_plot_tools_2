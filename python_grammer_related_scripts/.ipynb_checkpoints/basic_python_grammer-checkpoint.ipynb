{
 "cells": [
  {
   "cell_type": "markdown",
   "id": "43634ab7",
   "metadata": {},
   "source": [
    "# 1. python 函数参数传递与赋值"
   ]
  },
  {
   "cell_type": "code",
   "execution_count": 52,
   "id": "52c329c1",
   "metadata": {},
   "outputs": [],
   "source": [
    "import copy\n",
    "\n",
    "def get_parameters(a, b):\n",
    "    a = 3\n",
    "    b = 4\n",
    "    print(\"a:\\t\", a)\n",
    "    print(\"b:\\t\", b)\n",
    "    \n",
    "def get_parameters_copy(a, b):\n",
    "    tmp_a = 3\n",
    "    tmp_b = 4\n",
    "    a = copy.copy(tmp_a)\n",
    "    b = copy.copy(tmp_b)\n",
    "    print(\"a:\\t\", a)\n",
    "    print(\"b:\\t\", b)\n",
    "    print(\"id a:\\t\", id(a))\n",
    "    print(\"id b:\\t\", id(b))\n",
    "    print(\"id tmp_a:\\t\", id(tmp_a))\n",
    "    print(\"id tmp_b:\\t\", id(tmp_b))\n",
    "\n",
    "def get_parameters_deep_copy(a, b):\n",
    "    tmp_a = 3\n",
    "    tmp_b = 4\n",
    "#     a = tmp_a.deepcopy()\n",
    "#     b = tmp_b.deepcopy()\n",
    "    print(\"a:\\t\", a)\n",
    "    print(\"b:\\t\", b)\n",
    "\n",
    "    \n",
    "def get_parameters_list(l_a, l_b):\n",
    "    l_a.append(3)\n",
    "    l_b.append(4)"
   ]
  },
  {
   "cell_type": "code",
   "execution_count": 53,
   "id": "b65068eb",
   "metadata": {},
   "outputs": [
    {
     "name": "stdout",
     "output_type": "stream",
     "text": [
      "a:\t 3\n",
      "b:\t 4\n",
      "param_1:\t 0\n",
      "param_2:\t 0\n",
      "a:\t 3\n",
      "b:\t 4\n",
      "id a:\t 140728273872752\n",
      "id b:\t 140728273872784\n",
      "id tmp_a:\t 140728273872752\n",
      "id tmp_b:\t 140728273872784\n",
      "param_a:\t 0\n",
      "param_b:\t 0\n",
      "a:\t 3\n",
      "b:\t 4\n",
      "id a:\t 140728273872752\n",
      "id b:\t 140728273872784\n",
      "id tmp_a:\t 140728273872752\n",
      "id tmp_b:\t 140728273872784\n",
      "param_x:\t 0\n",
      "param_y:\t 0\n",
      "l_param_x:\t [3]\n",
      "l_param_y:\t [4]\n",
      "axx:\t 0\n",
      "bxx:\t 5\n",
      "axx:\t 5\n",
      "bxx:\t 5\n",
      "id axx:\t 140728273872816\n",
      "id bxx:\t 140728273872816\n",
      "axx:\t 5\n",
      "bxx:\t 4\n",
      "axx:\t 6\n",
      "cxx:\t 6\n",
      "id axx:\t 140728273872848\n",
      "id cxx:\t 140728273872848\n",
      "axx:\t 6\n",
      "cxx:\t 7\n",
      "id axx:\t 140728273872848\n",
      "id cxx:\t 140728273872880\n"
     ]
    }
   ],
   "source": [
    "param_1 = 0\n",
    "param_2 = 0\n",
    "\n",
    "get_parameters(param_1, param_2)\n",
    "print(\"param_1:\\t\", param_1)\n",
    "print(\"param_2:\\t\", param_2)\n",
    "\n",
    "\n",
    "param_a = 0\n",
    "param_b = 0\n",
    "get_parameters_copy(param_a, param_b)\n",
    "print(\"param_a:\\t\", param_a)\n",
    "print(\"param_b:\\t\", param_b)\n",
    "\n",
    "\n",
    "param_x = 0\n",
    "param_y = 0\n",
    "get_parameters_copy(param_x, param_y)\n",
    "print(\"param_x:\\t\", param_x)\n",
    "print(\"param_y:\\t\", param_y)\n",
    "\n",
    "# get_parameters(param_a, param_b)\n",
    "# print(\"param_a:\\t\", param_a)\n",
    "# print(\"param_b:\\t\", param_b)\n",
    "\n",
    "\n",
    "l_param_x = []\n",
    "l_param_y = []\n",
    "get_parameters_list(l_param_x, l_param_y)\n",
    "print(\"l_param_x:\\t\", l_param_x)\n",
    "print(\"l_param_y:\\t\", l_param_y)\n",
    "\n",
    "axx = 0\n",
    "bxx = 5\n",
    "cxx = 6\n",
    "print(\"axx:\\t\", axx)\n",
    "print(\"bxx:\\t\", bxx)\n",
    "\n",
    "axx = copy.copy(bxx)\n",
    "print(\"axx:\\t\", axx)\n",
    "print(\"bxx:\\t\", bxx)\n",
    "print(\"id axx:\\t\", id(axx))\n",
    "print(\"id bxx:\\t\", id(bxx))\n",
    "\n",
    "bxx = 4\n",
    "print(\"axx:\\t\", axx)\n",
    "print(\"bxx:\\t\", bxx)\n",
    "\n",
    "axx = copy.deepcopy(cxx)\n",
    "print(\"axx:\\t\", axx)\n",
    "print(\"cxx:\\t\", cxx)\n",
    "print(\"id axx:\\t\", id(axx))\n",
    "print(\"id cxx:\\t\", id(cxx))\n",
    "\n",
    "cxx = 7\n",
    "print(\"axx:\\t\", axx)\n",
    "print(\"cxx:\\t\", cxx)\n",
    "print(\"id axx:\\t\", id(axx))\n",
    "print(\"id cxx:\\t\", id(cxx))\n",
    "\n"
   ]
  },
  {
   "cell_type": "code",
   "execution_count": 17,
   "id": "9d995feb",
   "metadata": {},
   "outputs": [
    {
     "name": "stdout",
     "output_type": "stream",
     "text": [
      "l_x:\t [1, 2, 3]\n"
     ]
    }
   ],
   "source": [
    "# 还是得使用 list 或者 return\n",
    "def get_list(l_a):\n",
    "    l_buffer = [1, 2, 3]\n",
    "    for i in range(len(l_buffer)):\n",
    "        l_a.append(l_buffer[i])\n",
    "\n",
    "l_x = []\n",
    "get_list(l_x)\n",
    "print(\"l_x:\\t\", l_x)"
   ]
  },
  {
   "cell_type": "code",
   "execution_count": 59,
   "id": "b30bf2ac",
   "metadata": {},
   "outputs": [
    {
     "name": "stdout",
     "output_type": "stream",
     "text": [
      "l_x:\t [3]\n"
     ]
    }
   ],
   "source": [
    "def get_list_2(l_a):\n",
    "    l_a.append(3)\n",
    "    \n",
    "l_x = []\n",
    "get_list_2(l_x)\n",
    "print(\"l_x:\\t\", l_x)"
   ]
  },
  {
   "cell_type": "code",
   "execution_count": 61,
   "id": "9bcbd60a",
   "metadata": {},
   "outputs": [
    {
     "name": "stdout",
     "output_type": "stream",
     "text": [
      "a:\t 3\n",
      "b:\t 4\n"
     ]
    }
   ],
   "source": [
    "def get_number(a, b):\n",
    "    a, b = 3, 4\n",
    "    return a, b\n",
    "\n",
    "a = 0\n",
    "b = 0\n",
    "a, b = get_number(a, b)\n",
    "print(\"a:\\t\", a)\n",
    "print(\"b:\\t\", b)"
   ]
  },
  {
   "cell_type": "code",
   "execution_count": 58,
   "id": "7588b392",
   "metadata": {},
   "outputs": [
    {
     "name": "stdout",
     "output_type": "stream",
     "text": [
      "a:\t 0\n",
      "id a:\t 140728273872656\n",
      "id 0:\t 140728273872656\n",
      "type(0):\t <class 'int'>\n",
      "type(a):\t <class 'int'>\n",
      "n:\t 0\n",
      "id n:\t 140728273872656\n",
      "a:\t 0\n",
      "id a:\t 140728273872656\n"
     ]
    }
   ],
   "source": [
    "# 变量是引用传递，但是没法改值，只能 return 或用 list\n",
    "def show_number(n):\n",
    "    print(\"n:\\t\", n)\n",
    "    print(\"id n:\\t\", id(n))\n",
    "\n",
    "\n",
    "a = 0\n",
    "print(\"a:\\t\", a)\n",
    "print(\"id a:\\t\", id(a))  # id a:\t 140728273872656\n",
    "print(\"id 0:\\t\", id(0))  # id 0:\t 140728273872656\n",
    "print(\"type(0):\\t\", type(0))\n",
    "print(\"type(a):\\t\", type(a))\n",
    "\n",
    "show_number(a)\n",
    "print(\"a:\\t\", a)\n",
    "print(\"id a:\\t\", id(a))"
   ]
  },
  {
   "cell_type": "code",
   "execution_count": 16,
   "id": "dcd52197",
   "metadata": {},
   "outputs": [],
   "source": [
    "import numpy as np\n",
    "from math import sqrt, cos, sin, radians, atan2, degrees\n",
    "\n",
    "def cc2wc_transform(point_list_cc_x, point_list_cc_y, point_list_wc_x, point_list_wc_y, tr_theta, tr_x, tr_y):\n",
    "    \"\"\" affine transformation matrix\n",
    "    transform points in cc frame to wc frame using rotation & translation matrix T_R\n",
    "    \"\"\"\n",
    "    point_list_cc = []\n",
    "    point_list_wc = []\n",
    "    \n",
    "    for i in range(len(point_list_cc_x)):\n",
    "        x = point_list_cc_x[i]\n",
    "        y = point_list_cc_y[i]\n",
    "        z = 1\n",
    "#         print(\"x cc:\\t\", x)\n",
    "#         print(\"y cc:\\t\", y)\n",
    "        tmp_path_point = np.array([\n",
    "            [x],\n",
    "            [y],\n",
    "            [1],\n",
    "        ])\n",
    "        point_list_cc.append(tmp_path_point)\n",
    "    \n",
    "    T_R = np.array([\n",
    "        [cos(tr_theta), -sin(tr_theta), tr_x],\n",
    "        [sin(tr_theta), cos(tr_theta), tr_y],\n",
    "        [0, 0, 1],\n",
    "    ])\n",
    "    \n",
    "    for i in range(len(point_list_cc_x)):\n",
    "        tmp_point_wc = T_R.dot(point_list_cc[i])\n",
    "        point_list_wc.append(tmp_point_wc)\n",
    "        tmp_x_wc = tmp_point_wc[0][0]\n",
    "        tmp_y_wc = tmp_point_wc[1][0]\n",
    "        point_list_wc_x.append(tmp_x_wc)\n",
    "        point_list_wc_y.append(tmp_y_wc)  "
   ]
  },
  {
   "cell_type": "code",
   "execution_count": 14,
   "id": "3b144d62",
   "metadata": {},
   "outputs": [
    {
     "name": "stdout",
     "output_type": "stream",
     "text": [
      "stopper_wc_x:\t []\n",
      "stopper_wc_y:\t []\n",
      "stopper_wc_x:\t [9.876427434033591, 12.375834152456594]\n",
      "stopper_wc_y:\t [-5.848954620516585, -5.90341612896022]\n"
     ]
    }
   ],
   "source": [
    "stopper_cc_x = [-2, -2]  # 世界坐标系原点\n",
    "stopper_cc_y = [1.25, -1.25]\n",
    "stopper_wc_x = []  # 当前车位坐标系中点\n",
    "stopper_wc_y = []\n",
    "\n",
    "\"\"\"\n",
    "slot_center_x:\t [11.1697]\n",
    "slot_center_y:\t [-3.87666]\n",
    "slot_center_t:\t [1.54901]\n",
    "\"\"\"\n",
    "\n",
    "th_stopper = 1.54901  # 当前车位坐标系中点为旋转平移向量\n",
    "tr_x_stopper = 11.1697\n",
    "tr_y_stopper = -3.87666\n",
    "\n",
    "# 为什么这个函数没有使用 return 也可以绘制出图像\n",
    "print(\"stopper_wc_x:\\t\", stopper_wc_x)\n",
    "print(\"stopper_wc_y:\\t\", stopper_wc_y)\n",
    "cc2wc_transform(stopper_cc_x, stopper_cc_y, \n",
    "                stopper_wc_x, stopper_wc_y, \n",
    "                th_stopper, tr_x_stopper, tr_y_stopper)\n",
    "print(\"stopper_wc_x:\\t\", stopper_wc_x)\n",
    "print(\"stopper_wc_y:\\t\", stopper_wc_y)"
   ]
  },
  {
   "cell_type": "code",
   "execution_count": null,
   "id": "64136353",
   "metadata": {},
   "outputs": [],
   "source": []
  }
 ],
 "metadata": {
  "kernelspec": {
   "display_name": "Python 3",
   "language": "python",
   "name": "python3"
  },
  "language_info": {
   "codemirror_mode": {
    "name": "ipython",
    "version": 3
   },
   "file_extension": ".py",
   "mimetype": "text/x-python",
   "name": "python",
   "nbconvert_exporter": "python",
   "pygments_lexer": "ipython3",
   "version": "3.8.8"
  }
 },
 "nbformat": 4,
 "nbformat_minor": 5
}
