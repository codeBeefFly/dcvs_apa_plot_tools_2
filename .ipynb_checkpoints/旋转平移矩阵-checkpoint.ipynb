{
 "cells": [
  {
   "cell_type": "markdown",
   "metadata": {},
   "source": [
    "## practice one\n",
    "链接:[python求两个向量的夹角](https://blog.csdn.net/qq_42423940/article/details/83757427)"
   ]
  },
  {
   "cell_type": "code",
   "execution_count": 1,
   "metadata": {},
   "outputs": [
    {
     "name": "stdout",
     "output_type": "stream",
     "text": [
      "0.8436614877321075\n",
      "32.47119229084849\n"
     ]
    }
   ],
   "source": [
    "import numpy as np\n",
    "\n",
    "# 两个向量\n",
    "x=np.array([3,5])\n",
    "y=np.array([4,2])\n",
    "\n",
    "#相当于勾股定理，求得斜线的长度\n",
    "Lx=np.sqrt(x.dot(x))\n",
    "Ly=np.sqrt(y.dot(y))\n",
    "\n",
    "#求得cos_sita的值再反过来计算，绝对长度乘以cos角度为矢量长度，初中知识。。\n",
    "cos_angle=x.dot(y)/(Lx*Ly)\n",
    "print(cos_angle)\n",
    "\n",
    "#变为角度\n",
    "angle=np.arccos(cos_angle)\n",
    "angle2=angle*360/2/np.pi\n",
    "\n",
    "print(angle2)\n",
    "#x.dot(y) =  y=∑(ai*bi)\n"
   ]
  },
  {
   "cell_type": "markdown",
   "metadata": {},
   "source": [
    "## practice two\n",
    "链接:[python计算空间向量夹角——原理及代码详解](https://blog.csdn.net/weixin_45288557/article/details/109278843?utm_medium=distribute.pc_relevant.none-task-blog-baidujs_baidulandingword-1&spm=1001.2101.3001.4242)"
   ]
  },
  {
   "cell_type": "code",
   "execution_count": 2,
   "metadata": {},
   "outputs": [
    {
     "name": "stdout",
     "output_type": "stream",
     "text": [
      "向量的模= 2.449489742783178 2.449489742783178\n",
      "向量的点积= 5\n",
      "夹角的cos值= 0.8333333333333335\n",
      "夹角（弧度制）= 0.5856855434571507\n",
      "夹角=33.557310°\n"
     ]
    }
   ],
   "source": [
    "# 引入numpy模块并创建两个向量x和y\n",
    "import numpy as np\n",
    "x=np.array([1,1,2])\n",
    "y=np.array([2,1,1])\n",
    "\n",
    "# 分别计算两个向量的模：\n",
    "l_x=np.sqrt(x.dot(x))\n",
    "l_y=np.sqrt(y.dot(y))\n",
    "print('向量的模=',l_x,l_y)\n",
    "\n",
    "# 计算两个向量的点积\n",
    "dian=x.dot(y)\n",
    "print('向量的点积=',dian)\n",
    "\n",
    "# 计算夹角的cos值：\n",
    "cos_=dian/(l_x*l_y)\n",
    "print('夹角的cos值=',cos_)\n",
    "\n",
    "# 求得夹角（弧度制）：\n",
    "angle_hu=np.arccos(cos_)\n",
    "print('夹角（弧度制）=',angle_hu)\n",
    "\n",
    "# 转换为角度值：\n",
    "angle_d=angle_hu*180/np.pi\n",
    "print('夹角=%f°'%angle_d)\n"
   ]
  },
  {
   "cell_type": "markdown",
   "metadata": {},
   "source": [
    "## practice three\n",
    "链接:[平面向量](https://baike.baidu.com/item/%E5%B9%B3%E9%9D%A2%E5%90%91%E9%87%8F/448934?fr=aladdin)\n",
    "\n",
    "百度: 平面向量\n",
    "\n",
    "**即一个向量的坐标等于表示此向量的有向线段的终点坐标减去始点的坐标。**\n",
    "\n",
    "```\n",
    "百度: 平面向量\n",
    "\n",
    "即一个向量的坐标等于表示此向量的有向线段的终点坐标减去始点的坐标。\n",
    "\n",
    "具有方向的线段叫做有向线段，我们以A为起点、B为终点的有向线段作为向量，可以记作 v = B - A (终 - 起） 。但是，区别于有向线段，在一般的数学研究中，向量是可以平移的。\n",
    "\n",
    "\n",
    "real --> A\n",
    "front --> B\n",
    "\n",
    "旋转前（相对坐标系 cc.）下的点坐标\n",
    "x_A_cc = 0 \n",
    "y_A_cc = 0 \n",
    "x_B_cc = 1 \n",
    "y_B_cc = 0 \n",
    "\n",
    "旋转后（世界坐标系 wc.）下的点坐标\n",
    "x_A_wc = 9.58\n",
    "y_A_wc = 5.52\n",
    "x_B_wc = 9.58\n",
    "y_B_wc = 2.69\n",
    "\n",
    "```"
   ]
  },
  {
   "cell_type": "code",
   "execution_count": 8,
   "metadata": {},
   "outputs": [
    {
     "name": "stdout",
     "output_type": "stream",
     "text": [
      "theta_x: 0.000000, angle_x: 0.000000\n",
      "theta_y: -1.570796, angle_y: -90.000000\n",
      "向量的模= 1.0 2.38\n",
      "向量的点积= 0.0\n",
      "夹角的cos值= 0.0\n",
      "夹角（弧度制）= 1.5707963267948966\n",
      "夹角=90.000000°\n"
     ]
    }
   ],
   "source": [
    "# 引入numpy模块并创建两个向量x和y\n",
    "import numpy as np\n",
    "from math import atan2, degrees, radians\n",
    "\n",
    "\"\"\"\n",
    "math.atan2(y, x)\n",
    "以弧度为单位返回 atan(y / x) 。结果是在 -pi 和 pi 之间。从原点到点 (x, y) 的平面矢量使该角度与正X轴成正比。 \n",
    "atan2() 的点的两个输入的符号都是已知的，因此它可以计算角度的正确象限。 \n",
    "例如， atan(1) 和 atan2(1, 1) 都是 pi/4 ，但 atan2(-1, -1) 是 -3*pi/4 。\n",
    "\n",
    "对于任意不同时等于0的实参数 {\\displaystyle x} x和 {\\displaystyle y} y， {\\displaystyle \\operatorname {atan2} (y,x)} {\\displaystyle \\operatorname {atan2} (y,x)}所表达的意思是坐标原点为起点，\n",
    "指向 {\\displaystyle (x,y)} (x,y)的射线在坐标平面上与x轴正方向之间的角的角度。\n",
    "\"\"\"\n",
    "\n",
    "\"\"\"\n",
    "real --> A\n",
    "front --> B\n",
    "\n",
    "x_A_cc = 0 \n",
    "y_A_cc = 0 \n",
    "x_B_cc = 1 \n",
    "y_B_cc = 0 \n",
    "\n",
    "x_A_wc = 9.58\n",
    "y_A_wc = 5.52\n",
    "x_B_wc = 9.58\n",
    "y_B_wc = 2.69\n",
    "\"\"\"\n",
    "\n",
    "\n",
    "x=np.array([1, 0])  # AB_cc\n",
    "y=np.array([0, -2.38])  # AB_wc\n",
    "\n",
    "theta_x = atan2(0, 1)\n",
    "theta_y = atan2(-2.38, 0)\n",
    "angle_x = degrees(theta_x)\n",
    "angle_y = degrees(theta_y)\n",
    "print(\"theta_x: %f, angle_x: %f\" %(theta_x, angle_x))\n",
    "print(\"theta_y: %f, angle_y: %f\" %(theta_y, angle_y))\n",
    "\n",
    "\n",
    "# 分别计算两个向量的模：\n",
    "l_x=np.sqrt(x.dot(x))\n",
    "l_y=np.sqrt(y.dot(y))\n",
    "print('向量的模=',l_x,l_y)\n",
    "\n",
    "# 计算两个向量的点积\n",
    "dian=x.dot(y)\n",
    "print('向量的点积=',dian)\n",
    "\n",
    "# 计算夹角的cos值：\n",
    "cos_=dian/(l_x*l_y)\n",
    "print('夹角的cos值=',cos_)\n",
    "\n",
    "# 求得夹角（弧度制）：\n",
    "angle_hu=np.arccos(cos_)\n",
    "print('夹角（弧度制）=',angle_hu)\n",
    "\n",
    "# 转换为角度值：\n",
    "angle_d=angle_hu*180/np.pi\n",
    "print('夹角=%f°'%angle_d)"
   ]
  },
  {
   "cell_type": "markdown",
   "metadata": {},
   "source": [
    "## practice four, 通过相对、绝对坐标系计算旋转矩阵\n",
    "```\n",
    "real(后轴，起点) --> A\n",
    "front(前轴，终点) --> B\n",
    "\n",
    "旋转前（相对坐标系 cc.）下的点坐标\n",
    "x_A_cc = 0 \n",
    "y_A_cc = 0 \n",
    "x_B_cc = 1 \n",
    "y_B_cc = 0 \n",
    "\n",
    "旋转后（世界坐标系 wc.）下的点坐标\n",
    "x_A_wc = 9.58\n",
    "y_A_wc = 5.52\n",
    "x_B_wc = 9.58\n",
    "y_B_wc = 2.69\n",
    "```"
   ]
  },
  {
   "cell_type": "code",
   "execution_count": 15,
   "metadata": {},
   "outputs": [
    {
     "name": "stdout",
     "output_type": "stream",
     "text": [
      "theta_cc: 0.000000, angle_cc: 0.000000\n",
      "theta_wc: -1.570796, angle_wc: -90.000000\n",
      "angle_theta of rotation: -90.000000, angle_theta: -1.570796\n",
      "angle of rotation: -90.000000\n",
      "\n",
      "\n",
      "向量的模 =  1.0 2.38\n",
      "向量的点积 =  0.0\n",
      "夹角的cos值 =  0.0\n",
      "夹角（弧度制）= 1.570796\n",
      "夹角 = 90.000000°\n"
     ]
    }
   ],
   "source": [
    "import numpy as np\n",
    "from math import atan2, degrees, radians\n",
    "\n",
    "# 通过给定的 cc., wc. 坐标点计算同一个向量在不同坐标系的表示\n",
    "# 即一个向量的坐标等于表示此向量的有向线段的终点坐标减去始点的坐标\n",
    "# 向量 AB，方向 A --> B，数值表示 [终点坐标 - 起点坐标]\n",
    "# AB_cc = [x_B_cc - x_A_cc, y_B_cc - y_A_cc] = [1 - 0, 0 - 0] = [1, 0]\n",
    "# AB_wc = [x_B_wc - x_A_wc, y_B_wc - y_A_wc] = [9.58 - 9.58, 2.69 - 5.52] = [0, -2.38]\n",
    "AB_cc=np.array([1, 0])  # AB_cc\n",
    "AB_wc=np.array([0, -2.38])  # AB_wc\n",
    "\n",
    "# 求解向量在 cc., wc.对 相对应的 x 轴的夹角: theta_cc, theta_wc\n",
    "theta_cc = atan2(0, 1)\n",
    "theta_wc = atan2(-2.38, 0)\n",
    "angle_cc = degrees(theta_cc)\n",
    "angle_wc = degrees(theta_wc)\n",
    "print(\"theta_cc: %f, angle_cc: %f\" %(theta_cc, angle_cc))\n",
    "print(\"theta_wc: %f, angle_wc: %f\" %(theta_wc, angle_wc))\n",
    "\n",
    "# 求 旋转后 - 旋转前 的角度\n",
    "# 理解：旋转后的坐标系表示 cc 在 wc 投影\n",
    "# theta_wc - theta_cc\n",
    "theta_rotation = theta_wc - theta_cc\n",
    "angle_theta = degrees(theta_rotation)\n",
    "angle_rotation = angle_wc - angle_cc\n",
    "print(\"angle_theta of rotation: %f, angle_theta: %f\" %(angle_theta, theta_rotation))\n",
    "print(\"angle of rotation: %f\" %angle_rotation)\n",
    "\n",
    "\n",
    "# rotation angle = angle_rotation\n",
    "\n",
    "print(\"\\n\")\n",
    "\n",
    "\n",
    "# 分别计算两个向量的模：norm of vector\n",
    "norm_AB_cc = np.sqrt(AB_cc.dot(AB_cc))\n",
    "norm_AB_wc = np.sqrt(AB_wc.dot(AB_wc))\n",
    "print('向量的模 = ',norm_AB_cc,norm_AB_wc)\n",
    "\n",
    "# 计算两个向量的点积（数量积，标量，符合交换律）：dot product of vector\n",
    "dot_product = AB_cc.dot(AB_wc)\n",
    "print('向量的点积 = ',dot_product)\n",
    "\n",
    "# 计算夹角的 cos 值 AB_cc 与 AB_wc ：cos(a) = 向量的点积(标量) / 向量长度（膜）积(标量)\n",
    "cos_theta = dot_product / (norm_AB_cc * norm_AB_wc)\n",
    "print('夹角的cos值 = ',cos_theta)\n",
    "\n",
    "# 求得夹角（弧度制）：\n",
    "angle_rad = np.arccos(cos_theta)\n",
    "print('夹角（弧度制）= %f'%angle_rad)\n",
    "\n",
    "# 转换为角度值：\n",
    "angle_deg = angle_hu * 180 / np.pi\n",
    "print('夹角 = %f°'%angle_d)\n",
    "\n"
   ]
  }
 ],
 "metadata": {
  "kernelspec": {
   "display_name": "Python 3",
   "language": "python",
   "name": "python3"
  },
  "language_info": {
   "codemirror_mode": {
    "name": "ipython",
    "version": 3
   },
   "file_extension": ".py",
   "mimetype": "text/x-python",
   "name": "python",
   "nbconvert_exporter": "python",
   "pygments_lexer": "ipython3",
   "version": "3.8.8"
  }
 },
 "nbformat": 4,
 "nbformat_minor": 4
}
