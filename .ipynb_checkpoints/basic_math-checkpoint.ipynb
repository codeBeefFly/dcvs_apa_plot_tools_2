{
 "cells": [
  {
   "cell_type": "markdown",
   "id": "e8944616",
   "metadata": {},
   "source": [
    "# 1. 余弦定理"
   ]
  },
  {
   "cell_type": "code",
   "execution_count": 25,
   "id": "5fe74a7f",
   "metadata": {},
   "outputs": [
    {
     "name": "stdout",
     "output_type": "stream",
     "text": [
      "x:\t 0.7987337869022041\n",
      "arc b:\t 0.6456085047720311\n",
      "deg b:\t 36.990642541189054\n"
     ]
    }
   ],
   "source": [
    "import numpy as np\n",
    "import math\n",
    "\n",
    "a = 70.8\n",
    "b = 42.6\n",
    "c = 56.8\n",
    "\n",
    "x = (c * c + a * a - b * b) / (2 * c * a)\n",
    "print(\"x:\\t\", x)\n",
    "\n",
    "b_arc = math.acos(float(x))\n",
    "print(\"arc b:\\t\", b_arc)\n",
    "print(\"deg b:\\t\", math.degrees(b_arc))\n",
    "\n"
   ]
  },
  {
   "cell_type": "markdown",
   "id": "4839904f",
   "metadata": {},
   "source": [
    "# 2. 过圆外一点与圆相切的直线方程"
   ]
  },
  {
   "cell_type": "code",
   "execution_count": null,
   "id": "cb71f916",
   "metadata": {},
   "outputs": [],
   "source": [
    "import math\n",
    "\n",
    "# 圆心 x, y, r\n",
    "A = 9.2424\n",
    "B = 1.9385\n",
    "R = 1.1\n",
    "\n",
    "# 圆外点 x, y\n",
    "X1 = 12.0\n",
    "Y1 = -0.168\n",
    "\n",
    "\n",
    "\n"
   ]
  }
 ],
 "metadata": {
  "kernelspec": {
   "display_name": "Python 3",
   "language": "python",
   "name": "python3"
  },
  "language_info": {
   "codemirror_mode": {
    "name": "ipython",
    "version": 3
   },
   "file_extension": ".py",
   "mimetype": "text/x-python",
   "name": "python",
   "nbconvert_exporter": "python",
   "pygments_lexer": "ipython3",
   "version": "3.8.8"
  }
 },
 "nbformat": 4,
 "nbformat_minor": 5
}
